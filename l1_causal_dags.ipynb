{
 "cells": [
  {
   "cell_type": "markdown",
   "metadata": {},
   "source": [
    "# Lesson 1: Causal DAGs"
   ]
  },
  {
   "cell_type": "markdown",
   "metadata": {},
   "source": [
    "## 1. Estrogens and Uterine Cancer - The Problem"
   ]
  },
  {
   "cell_type": "markdown",
   "metadata": {},
   "source": [
    "1970s - millions of women were receiving *Estrogen* after *menopause*\n",
    "\n",
    "1975 - 1976 - some studies suggested that women who were receiving Estrogens had a higher risk of being diagnosed with endometrial cancer than women not receiving estrogen\n",
    "\n",
    "    -Estrogens cause cancer?\n",
    "    -20-60% of cancers are silent and asymptomatic, we only find them when we look for them. Estrogens did not have to cause cancer for us to find this association between estrogen use and cancer. Estrogens simply lead to a diagnosis of cancers that were already present but would not have been diagnosed in the absence of estrogen.\n",
    "    \n",
    "Estrogen causes bleeding inside women. Bleeding was leading doctors to diagnose preexisting silent cancers. Therefore, Estrogen users have a higher rate of diagnosis of cancer, even if Estrogens did not cause cancer by themselves.\n",
    "\n",
    "**\"If Estrogens provoke the bleeding that leads to uterine exam, asymptotic uterine cancer is much more likely to be found in women receiving estrogens than in those who do receive it.\" - Feinstein & Horwitz**\n",
    "\n",
    "They refer to the above phenomenon as ascertainment bias."
   ]
  },
  {
   "cell_type": "markdown",
   "metadata": {},
   "source": [
    "2 possible explanations for the association between Estrogen use and endometrial cancer:\n",
    "    \n",
    "    1. Estrogens accelerate diagnosis of existing cancers.\n",
    "    2. Estrogens cause cancer.\n",
    "    \n",
    "How can we distinguish between these two explanations? Which one is responsible for the association between Estrogen and Endometrial cancer?"
   ]
  },
  {
   "cell_type": "markdown",
   "metadata": {},
   "source": [
    "Yale:\n",
    "\n",
    "Since Estrogens make some women bleed, and therefore, more likely to be diagnosed with preexisting cancer, when we analyze data from these studies, let's restrict the data analysis to women who bleed, whether they are taking Estrogens or not. If we do that, then all women in the analysis, because they all have bled, they all have the same likelihood of being diagnosed with cancer if they have an existing cancer. If we still find an association between Estrogen and cancer, it must be that Estrogens cause cancer.\n",
    "\n",
    "Harvard/ Boston - Hershel Jick, Ken Rothman, Alec Walker:\n",
    "\n",
    "Restricting to women who bleed is not the solution. *We would find an association between Estrogen and cancer diagnosis even among women who bleed and even if Estrogens didn't cause cancer.* As a consequence, if that was true, then the approach that was proposed by the Yale investigators would not truly distinguish between the two possible explanations. We would still have some form of ascertainment bias."
   ]
  },
  {
   "cell_type": "markdown",
   "metadata": {},
   "source": [
    "## 2. What is a DAG?"
   ]
  },
  {
   "cell_type": "markdown",
   "metadata": {},
   "source": [
    "![](dag_1.jpg)"
   ]
  },
  {
   "cell_type": "markdown",
   "metadata": {},
   "source": [
    "The above figure is a causal diagram. \n",
    "\n",
    "L, A and Y - variables/nodes. \n",
    "\n",
    "-> - arrows/ directed edges.\n",
    "\n",
    "The above graph shows that L has an effect on A and A has an effect on Y and also, L has a direct effect on Y that is not *mediated* through A.\n",
    "\n",
    "No causal effect - no arrow.\n",
    "\n",
    "Arrows indicate the direction of causality. So, we call this a \"Directed\" graph. L causes A, but A doesn't have to cause L. \n",
    "\n",
    "Also, the graph is \"Acyclic\". ie No cycles\n",
    "\n",
    "DAG - Directed Acyclic Graph aka Causal Graph aka Causal DAG.\n",
    "\n",
    "We draw DAGs by using our expert knowledge about the problem under study. If our expert knowledge is insufficient for us to exclude any possible effect, we will draw all the arrows. \n",
    "\n",
    "If our knowledge is sufficient for us to exclude some causal effects, we will omit some of the arrows.\n",
    "\n",
    "*We represent our knowledge in the form of missing arrows.*\n",
    "\n",
    "*A DAG is a causal DAG if when two variables on the graph, A -> Y share a cause, that cause is also represented on the graph. (see above pic). This is known as the Causal Markov Condition.*"
   ]
  },
  {
   "cell_type": "markdown",
   "metadata": {},
   "source": [
    "Examples:\n",
    "\n",
    "1. We are interested in the effect of Aspirin, A on the risk of Stoke, Y. Let's say we have conducted an experiment in which 10,000 individuals were *randomly* assigned to receive an Aspirin & 10,000 individuals were *randomly* assigned to not receive an Aspirin.\n",
    "\n",
    "Question: Do we need to add any more variables other tha A & Y to make it a causal graph? What about the other causes of Stroke, like high blood pressure, coronary heart disease, diet, genes, etc? Should we add all these to the graph?\n",
    "\n",
    "Answer: **No!** These variables **don't affect assignment** to Aspirin. This is a **randomized** trial. People were assigned Aspirin at random and not because they had high blood pressure, etc. *Therefore, all causes of Y cannot possibly be causes of A. They are not common causes of Y & A, and so, we do not need to include them in the graph.*\n",
    "**A -> Y is a causal DAG even if it does not include all those other causes of Y.** "
   ]
  },
  {
   "cell_type": "markdown",
   "metadata": {},
   "source": [
    "2. Rather than having conducted a randomized trial, we select a large number of individuals and classify them into 2 groups according to information in their medical records. \n",
    "    -Group 1: Started treatment with Aspirin\n",
    "    -Group 2: No treatment with Aspirin. \n",
    "    \n",
    "    A represents Aspirin use. \n",
    "    \n",
    "Question: Do we need to add any variables other than A and Y to our graph to make it more causal?\n",
    "\n",
    "Answer: People who have coronary heart disease are more likely to start treatment with Aspirin in the real world. Therefore, Coronary Heart Disease is a common cause of A and Y and should be included in the graph.\n",
    "\n",
    "![](dag_2.jpg)\n",
    "    \n",
    "When we are *not randomizing* Aspirin treatment, the graph has to include Coronary Heart Disease for it to be considered causal."
   ]
  },
  {
   "cell_type": "markdown",
   "metadata": {},
   "source": [
    "Summary:\n",
    "\n",
    "    -DAG - Directed Acyclic Graph. Arrows indicate direction of causality.\n",
    "    -We represent our knowledge in the form of missing arrows.\n",
    "    -Causal DAG - if 2 variables share a cause, that cause is also represented on the graph - Causal Markov condition."
   ]
  },
  {
   "cell_type": "markdown",
   "metadata": {},
   "source": [
    "## 3. Cause and Effect"
   ]
  },
  {
   "cell_type": "markdown",
   "metadata": {},
   "source": [
    "Causal DAGs are \n",
    "1. Causal Models\n",
    "2. Statistical Models\n",
    "\n",
    "They're models that represent **associations** and **independencies** between variables. We can draw a causal graph using our expert knowledge, our causal knowledge, and at the same time, *we are building a statistical model without knowing it.*\n",
    "\n",
    "**This dual nature is based on the fact that the *causal effects imply associations* and the *lack of causal effects imply independencies*.**\n",
    "\n",
    "This is very important because when we are conducting research, we find *biases* and these *biases are associations*. Therefore, we can use causal graphs to conceptualize those biases and to identify them in our research."
   ]
  },
  {
   "cell_type": "markdown",
   "metadata": {
    "collapsed": true
   },
   "source": [
    "Let's consider an example of a simple causal DAG with two variables A -> Y\n",
    "![](dag_3.jpg)\n",
    "\n",
    "**A** can take two values: \n",
    "    \n",
    "    -1 if the person is a smoker\n",
    "    -0 if the person is not a smoker\n",
    "    \n",
    "**Y** can take two values:\n",
    "\n",
    "    -1 if the person develops lung cancer\n",
    "    -0 if the person does not develop lung cancer\n",
    "    \n",
    "A and Y are *binary* variables or *dichotomous* variables.\n",
    "\n",
    "We draw this causal graph because *we believe there is a causal effect of smoking A, on cancer, Y* and to do that, we use our expert knowledge. We didn't use any data."
   ]
  },
  {
   "cell_type": "markdown",
   "metadata": {},
   "source": [
    "But what if we had data? If we had data, then we could compute the association between A and Y. \n",
    "\n",
    "So if A has a causal effect on Y, as represented by our graph, A arrow Y, do we expect to find an association between A and Y in our data?\n",
    "\n",
    "To answer this question, suppose that we have a database with millions of people. For each person we know whether they were cigarette smokers, A, and whether they develop lung cancer, Y.\n",
    "\n",
    "What does an association between smoking, A, and cancer, Y, mean?"
   ]
  },
  {
   "cell_type": "markdown",
   "metadata": {},
   "source": [
    "![](dag_4.jpg)"
   ]
  },
  {
   "cell_type": "markdown",
   "metadata": {},
   "source": [
    "From our definition of association, smoking and lung cancer are associated if the **proportion** of individuals with cancer is **different** among smokers and nonsmokers. \n",
    "\n",
    "This is precisely what we expect to happen if smoking causes cancer. We expect A and Y to be *associated when A has a causal effect on Y* and we expect A and Y to be *independent when A does not have an effect.*\n",
    "\n",
    "We can think about association in an equivalent way. We say that A and Y are associated when **having information about A allows us to predict Y better on average.**\n",
    "\n",
    "This is precisely what happens in our example. If we learn that someone is a cigarette smoker, then we will predict she has a risk of lung cancer that is greater than the average risk of cancer in the population.\n"
   ]
  },
  {
   "cell_type": "markdown",
   "metadata": {},
   "source": [
    "DAGs are both causal and statistical models.\n",
    "\n",
    "If we use our expert knowledge to draw a causal graph, with no arrow from A to Y, then we are also drawing a statistical model that says that A and Y are independent, that they are not associated.\n",
    "\n",
    "More generally, graph theory gives us a rule. **We can only exclude an association between A and Y if there is no arrow from A to Y.** \n",
    "\n",
    "Informally, we can see the arrow between A and Y as a pipe. A pipe that carries association right on water. If the arrow is there, then a flow of association between A and Y is expected."
   ]
  },
  {
   "cell_type": "markdown",
   "metadata": {},
   "source": [
    "Let's consider another example:\n",
    "\n",
    "When we drew our graph, A -> Y, we didn't include any variables between A and Y. But the effect of smoking A on lung cancer Y is obviously mediated by some variables.\n",
    "\n",
    "For example, by the damage to the DNA of the cells of the lung that smoking causes.\n",
    "\n",
    "So we could then have drawn a causal graph, A -> B -> Y, where B is cell damage.\n",
    "And B, we say is a **mediator** of the effect of A on Y.\n",
    "\n",
    "But we didn't include B on our graph. That's because **causal graphs do not need to include mediators when the goal is to estimate the total effect of A on Y.** \n",
    "If we needed information on mediators to estimate causal effects, then it will be impossible to estimate most causal effects."
   ]
  },
  {
   "cell_type": "markdown",
   "metadata": {},
   "source": [
    "Let's say that we decide to include the mediator B, cell damage, into our graph.\n",
    "\n",
    "This is the graph that we would draw if we believed that there is an effect of A on B, that **there is an effect of B on Y, and that there is no direct effect of A on Y through pathways other than the A B Y pathway.**\n",
    "\n",
    "![](dag_5.jpg)\n",
    "\n",
    "This level of detail in the specification of the graph is **unnecessary when we are interested in the total effect of A on Y.**"
   ]
  },
  {
   "cell_type": "markdown",
   "metadata": {},
   "source": [
    "But let's say that we have a graph with B. In this case, we can ask a new type of question.\n",
    "\n",
    "We can ask a question about **conditional independence.**\n",
    "\n",
    "We can ask the question, **are A and Y associated conditional on B or within levels of B?**\n",
    "\n",
    "Is there an association between A and Y, among individuals with a particular value of B?\n",
    "\n",
    "To answer this question, we will need data on A, Y and B.\n",
    "\n",
    "The arrows of causal graphs are not meant to be deterministic. When we have an arrow from cigarette smoking A to cell damage B, that doesn't mean that for every single smoker we're going to see cell damage. Some smokers may never develop cell damage; some nonsmokers may develop cell damage for other reasons."
   ]
  },
  {
   "cell_type": "markdown",
   "metadata": {},
   "source": [
    "With data on A, Y and B, we can answer the question on whether A and Y are associated conditional on B.\n",
    "\n",
    "For example, we can restrict our analysis to a subset of individuals with cell damage with B equals one.\n",
    "\n",
    "**To represent it graphically that we are conditioning on a particular value of B, one, we put a square box around B on the graph.**\n",
    "\n",
    "![](dag_6.jpg)\n",
    "\n",
    "Now we can check in the subset of the population with cell damage B equals one whether there is an association between A and Y.\n",
    "\n",
    "We just check whether the proportion of individuals with lung cancer is different among smokers and nonsmokers.\n",
    "If the proportions are different, we will say that there is an association between A and Y conditional on B equals one.\n",
    "\n",
    "Another way to say this, we will check whether A contains information not already included in B that allows us to predict Y better."
   ]
  },
  {
   "cell_type": "markdown",
   "metadata": {},
   "source": [
    "If the correct DAG is really A -> B -> Y, do we expect to find an association between A, cigarette smoking and Y, lung cancer, among people with B equals one with cell damage?\n",
    "\n",
    "According to this graph, the effect of smoking is entirely mediated through cell damage.\n",
    "Therefore, if someone has cell damage, then learning that she's a smoker does not provide any additional information with respect to the risk of Y. \n",
    "\n",
    "You can think of it in this way. If we know that someone with cell damage has a 10% chance of developing cancer,\n",
    "and then we learn that she is a cigarette smoker, that doesn't change the number. She still has a 10% chance of developing cancer.\n",
    "\n",
    "Because **under our graph, smoking can only affect cancer risk through cell damage.** And similarly, if we know that someone without cell damage has a 1% chance of developing cancer, then learning that she is a cigarette smoker does not change that number. She still has a 1% chance of cancer.\n",
    "\n",
    "We say that **there's no conditional association between A and Y with the levels of B. And that's true for all levels of B, whether we are conditioning on B equals one, cell damage, or B equals zero, no cell damage.**"
   ]
  },
  {
   "cell_type": "markdown",
   "metadata": {},
   "source": [
    "![](dag_7.jpg)\n",
    "\n",
    "**So if there is no direct arrow from A to Y, we say that there is no association between A and Y conditioned on B, even though A has a causal effect on Y.**"
   ]
  },
  {
   "cell_type": "markdown",
   "metadata": {},
   "source": [
    "Suppose you find in your data that aspirin is associated with stroke, conditionally on platelet aggregation. Select the causal DAG that is consistent with this finding.\n",
    "\n",
    "![](dag_8.jpg)"
   ]
  },
  {
   "cell_type": "code",
   "execution_count": null,
   "metadata": {
    "collapsed": true
   },
   "outputs": [],
   "source": []
  }
 ],
 "metadata": {
  "kernelspec": {
   "display_name": "Python 3",
   "language": "python",
   "name": "python3"
  },
  "language_info": {
   "codemirror_mode": {
    "name": "ipython",
    "version": 3
   },
   "file_extension": ".py",
   "mimetype": "text/x-python",
   "name": "python",
   "nbconvert_exporter": "python",
   "pygments_lexer": "ipython3",
   "version": "3.6.1"
  }
 },
 "nbformat": 4,
 "nbformat_minor": 2
}
